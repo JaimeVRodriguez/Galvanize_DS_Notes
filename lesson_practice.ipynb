{
 "cells": [
  {
   "cell_type": "code",
   "execution_count": 5,
   "metadata": {},
   "outputs": [],
   "source": [
    "class Animal:\n",
    "    def __init__(self, species, num_legs):\n",
    "        self.species = species\n",
    "        self.num_legs = num_legs\n",
    "\n",
    "    def say_species(self):\n",
    "        print(f\"My species is: {self.species}\")\n",
    "\n",
    "dog = Animal(\"Canis\", 4)\n",
    "ostrich = Animal(\"Struthio\", 2)\n",
    "cobra = Animal(\"Elapidae\", 0)"
   ]
  },
  {
   "cell_type": "code",
   "execution_count": 6,
   "metadata": {},
   "outputs": [
    {
     "name": "stdout",
     "output_type": "stream",
     "text": [
      "Canis\n"
     ]
    }
   ],
   "source": [
    "print(dog.species)"
   ]
  },
  {
   "cell_type": "code",
   "execution_count": 8,
   "metadata": {},
   "outputs": [
    {
     "name": "stdout",
     "output_type": "stream",
     "text": [
      "My species is: Struthio\n"
     ]
    }
   ],
   "source": [
    "ostrich.say_species()"
   ]
  }
 ],
 "metadata": {
  "kernelspec": {
   "display_name": "Python 3.9.13 ('base')",
   "language": "python",
   "name": "python3"
  },
  "language_info": {
   "codemirror_mode": {
    "name": "ipython",
    "version": 3
   },
   "file_extension": ".py",
   "mimetype": "text/x-python",
   "name": "python",
   "nbconvert_exporter": "python",
   "pygments_lexer": "ipython3",
   "version": "3.9.13"
  },
  "orig_nbformat": 4,
  "vscode": {
   "interpreter": {
    "hash": "40d3a090f54c6569ab1632332b64b2c03c39dcf918b08424e98f38b5ae0af88f"
   }
  }
 },
 "nbformat": 4,
 "nbformat_minor": 2
}
